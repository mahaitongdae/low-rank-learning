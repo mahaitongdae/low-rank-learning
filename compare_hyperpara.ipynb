{
 "cells": [
  {
   "cell_type": "code",
   "id": "initial_id",
   "metadata": {
    "collapsed": true,
    "ExecuteTime": {
     "end_time": "2024-06-12T02:52:25.142741Z",
     "start_time": "2024-06-12T02:52:24.931374Z"
    }
   },
   "source": [
    "import os\n",
    "import pandas as pd\n",
    "import json"
   ],
   "outputs": [],
   "execution_count": 1
  },
  {
   "metadata": {
    "ExecuteTime": {
     "end_time": "2024-06-12T03:20:33.564913Z",
     "start_time": "2024-06-12T03:20:33.557256Z"
    }
   },
   "cell_type": "code",
   "source": [
    "folder = 'supervised_rf'\n",
    "full_path = '/home/haitong/PycharmProjects/low_rank_learning/log/mvn/nce'\n",
    "dfs = []\n",
    "for dir in os.listdir(full_path):\n",
    "    try:\n",
    "        exp_path = os.path.join(full_path, dir)\n",
    "        args_path = os.path.join(exp_path, 'args.json')\n",
    "        with open(args_path, 'r') as f:\n",
    "            args_dict = json.load(f)\n",
    "        args_dict['exp_name'] = dir\n",
    "        dfs.append(pd.DataFrame(args_dict, index=[0]))\n",
    "    except:\n",
    "        pass\n",
    "df = pd.concat(dfs, ignore_index=True)\n",
    "df_filtered = df.loc[:, df.nunique() > 1]\n",
    "df_filtered"
   ],
   "id": "cd7fb2f21868e0a8",
   "outputs": [
    {
     "data": {
      "text/plain": [
       "              exp_name\n",
       "0  2024-06-04-22-25-33\n",
       "1  2024-06-04-22-36-08"
      ],
      "text/html": [
       "<div>\n",
       "<style scoped>\n",
       "    .dataframe tbody tr th:only-of-type {\n",
       "        vertical-align: middle;\n",
       "    }\n",
       "\n",
       "    .dataframe tbody tr th {\n",
       "        vertical-align: top;\n",
       "    }\n",
       "\n",
       "    .dataframe thead th {\n",
       "        text-align: right;\n",
       "    }\n",
       "</style>\n",
       "<table border=\"1\" class=\"dataframe\">\n",
       "  <thead>\n",
       "    <tr style=\"text-align: right;\">\n",
       "      <th></th>\n",
       "      <th>exp_name</th>\n",
       "    </tr>\n",
       "  </thead>\n",
       "  <tbody>\n",
       "    <tr>\n",
       "      <th>0</th>\n",
       "      <td>2024-06-04-22-25-33</td>\n",
       "    </tr>\n",
       "    <tr>\n",
       "      <th>1</th>\n",
       "      <td>2024-06-04-22-36-08</td>\n",
       "    </tr>\n",
       "  </tbody>\n",
       "</table>\n",
       "</div>"
      ]
     },
     "execution_count": 7,
     "metadata": {},
     "output_type": "execute_result"
    }
   ],
   "execution_count": 7
  },
  {
   "metadata": {
    "ExecuteTime": {
     "end_time": "2024-06-12T03:20:39.059847Z",
     "start_time": "2024-06-12T03:20:39.041669Z"
    }
   },
   "cell_type": "code",
   "source": "df.loc[:, df.nunique() == 1]",
   "id": "5ba546594c9a0754",
   "outputs": [
    {
     "data": {
      "text/plain": [
       "  device  train_batches  train_batch_size dynamics  sigma         sample  \\\n",
       "0   cuda          10000              1024      mvn    4.0  uniform_theta   \n",
       "1   cuda          10000              1024      mvn    4.0  uniform_theta   \n",
       "\n",
       "   sin_cos_obs  prob_labels  layer_normalization preprocess  ... hidden_depth  \\\n",
       "0        False  conditional                 True       none  ...            3   \n",
       "1        False  conditional                 True       none  ...            3   \n",
       "\n",
       "   logprob_regularization  logprob_regularization_weights  \\\n",
       "0                   False                             1.0   \n",
       "1                   False                             1.0   \n",
       "\n",
       "   integral_normalization  integral_normalization_weights  sigmoid_output  \\\n",
       "0                    True                             0.1           False   \n",
       "1                    True                             0.1           False   \n",
       "\n",
       "   nce_loss   nce_lr  noise_dist  num_classes  \n",
       "0   ranking  0.00003     uniform            3  \n",
       "1   ranking  0.00003     uniform            3  \n",
       "\n",
       "[2 rows x 24 columns]"
      ],
      "text/html": [
       "<div>\n",
       "<style scoped>\n",
       "    .dataframe tbody tr th:only-of-type {\n",
       "        vertical-align: middle;\n",
       "    }\n",
       "\n",
       "    .dataframe tbody tr th {\n",
       "        vertical-align: top;\n",
       "    }\n",
       "\n",
       "    .dataframe thead th {\n",
       "        text-align: right;\n",
       "    }\n",
       "</style>\n",
       "<table border=\"1\" class=\"dataframe\">\n",
       "  <thead>\n",
       "    <tr style=\"text-align: right;\">\n",
       "      <th></th>\n",
       "      <th>device</th>\n",
       "      <th>train_batches</th>\n",
       "      <th>train_batch_size</th>\n",
       "      <th>dynamics</th>\n",
       "      <th>sigma</th>\n",
       "      <th>sample</th>\n",
       "      <th>sin_cos_obs</th>\n",
       "      <th>prob_labels</th>\n",
       "      <th>layer_normalization</th>\n",
       "      <th>preprocess</th>\n",
       "      <th>...</th>\n",
       "      <th>hidden_depth</th>\n",
       "      <th>logprob_regularization</th>\n",
       "      <th>logprob_regularization_weights</th>\n",
       "      <th>integral_normalization</th>\n",
       "      <th>integral_normalization_weights</th>\n",
       "      <th>sigmoid_output</th>\n",
       "      <th>nce_loss</th>\n",
       "      <th>nce_lr</th>\n",
       "      <th>noise_dist</th>\n",
       "      <th>num_classes</th>\n",
       "    </tr>\n",
       "  </thead>\n",
       "  <tbody>\n",
       "    <tr>\n",
       "      <th>0</th>\n",
       "      <td>cuda</td>\n",
       "      <td>10000</td>\n",
       "      <td>1024</td>\n",
       "      <td>mvn</td>\n",
       "      <td>4.0</td>\n",
       "      <td>uniform_theta</td>\n",
       "      <td>False</td>\n",
       "      <td>conditional</td>\n",
       "      <td>True</td>\n",
       "      <td>none</td>\n",
       "      <td>...</td>\n",
       "      <td>3</td>\n",
       "      <td>False</td>\n",
       "      <td>1.0</td>\n",
       "      <td>True</td>\n",
       "      <td>0.1</td>\n",
       "      <td>False</td>\n",
       "      <td>ranking</td>\n",
       "      <td>0.00003</td>\n",
       "      <td>uniform</td>\n",
       "      <td>3</td>\n",
       "    </tr>\n",
       "    <tr>\n",
       "      <th>1</th>\n",
       "      <td>cuda</td>\n",
       "      <td>10000</td>\n",
       "      <td>1024</td>\n",
       "      <td>mvn</td>\n",
       "      <td>4.0</td>\n",
       "      <td>uniform_theta</td>\n",
       "      <td>False</td>\n",
       "      <td>conditional</td>\n",
       "      <td>True</td>\n",
       "      <td>none</td>\n",
       "      <td>...</td>\n",
       "      <td>3</td>\n",
       "      <td>False</td>\n",
       "      <td>1.0</td>\n",
       "      <td>True</td>\n",
       "      <td>0.1</td>\n",
       "      <td>False</td>\n",
       "      <td>ranking</td>\n",
       "      <td>0.00003</td>\n",
       "      <td>uniform</td>\n",
       "      <td>3</td>\n",
       "    </tr>\n",
       "  </tbody>\n",
       "</table>\n",
       "<p>2 rows × 24 columns</p>\n",
       "</div>"
      ]
     },
     "execution_count": 8,
     "metadata": {},
     "output_type": "execute_result"
    }
   ],
   "execution_count": 8
  }
 ],
 "metadata": {
  "kernelspec": {
   "display_name": "Python 3",
   "language": "python",
   "name": "python3"
  },
  "language_info": {
   "codemirror_mode": {
    "name": "ipython",
    "version": 2
   },
   "file_extension": ".py",
   "mimetype": "text/x-python",
   "name": "python",
   "nbconvert_exporter": "python",
   "pygments_lexer": "ipython2",
   "version": "2.7.6"
  }
 },
 "nbformat": 4,
 "nbformat_minor": 5
}
