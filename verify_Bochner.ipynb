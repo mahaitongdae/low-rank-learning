{
 "cells": [
  {
   "cell_type": "code",
   "id": "initial_id",
   "metadata": {
    "collapsed": true,
    "ExecuteTime": {
     "end_time": "2024-06-12T00:47:04.170399Z",
     "start_time": "2024-06-12T00:47:03.780987Z"
    }
   },
   "source": [
    "from sklearn.metrics.pairwise import rbf_kernel\n",
    "import numpy as np\n",
    "X = [[0, 0, 0], [1, 1, 1]]\n",
    "Y = [[1, 0, 0], [1, 1, 0]]\n",
    "# rbf_kernel(X, Y, gamma=1)\n",
    "np.exp(-1)"
   ],
   "outputs": [
    {
     "data": {
      "text/plain": [
       "0.36787944117144233"
      ]
     },
     "execution_count": 1,
     "metadata": {},
     "output_type": "execute_result"
    }
   ],
   "execution_count": 1
  },
  {
   "metadata": {
    "ExecuteTime": {
     "end_time": "2024-06-12T02:46:08.866166Z",
     "start_time": "2024-06-12T02:46:08.860596Z"
    }
   },
   "cell_type": "code",
   "source": [
    "# Random features\n",
    "feature_dim = 1\n",
    "mc_num = 8192\n",
    "sigma = 2\n",
    "w = np.random.normal(scale=1. / sigma, size=[mc_num, feature_dim])\n",
    "b = np.random.uniform(low=0., high=2*np.pi, size=[mc_num,])\n",
    "def random_feature(x):\n",
    "    if isinstance(x, list):\n",
    "        x = np.array(x)\n",
    "    if len(x.shape) == 1:\n",
    "        x = np.reshape(x, [-1, 1])\n",
    "    if len(x.shape) == 2 and x.shape[0] == 1:\n",
    "        x = x.T\n",
    "    print(w.shape)\n",
    "    print(x.shape)\n",
    "    feature = np.sqrt(2) * np.cos((w @ x).squeeze() + b)\n",
    "    return feature\n",
    "\n",
    "def get_kernel_by_random_feature(x, y):\n",
    "    phi_x = random_feature(x)\n",
    "    phi_y = random_feature(y)\n",
    "    inner_prod = np.mean(phi_x * phi_y)\n",
    "    print(inner_prod, rbf_kernel(x, y, gamma=0.5 * (1 / sigma ** 2)))\n",
    "    \n",
    "get_kernel_by_random_feature([[0]], [[1]])"
   ],
   "id": "4e97900606d96bb1",
   "outputs": [
    {
     "name": "stdout",
     "output_type": "stream",
     "text": [
      "(8192, 1)\n",
      "(1, 1)\n",
      "(8192, 1)\n",
      "(1, 1)\n",
      "0.8808933736330214 [[0.8824969]]\n"
     ]
    }
   ],
   "execution_count": 179
  }
 ],
 "metadata": {
  "kernelspec": {
   "display_name": "Python 3",
   "language": "python",
   "name": "python3"
  },
  "language_info": {
   "codemirror_mode": {
    "name": "ipython",
    "version": 2
   },
   "file_extension": ".py",
   "mimetype": "text/x-python",
   "name": "python",
   "nbconvert_exporter": "python",
   "pygments_lexer": "ipython2",
   "version": "2.7.6"
  }
 },
 "nbformat": 4,
 "nbformat_minor": 5
}
