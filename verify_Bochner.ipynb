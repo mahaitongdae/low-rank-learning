{
 "cells": [
  {
   "cell_type": "code",
   "id": "initial_id",
   "metadata": {
    "collapsed": true,
    "ExecuteTime": {
     "end_time": "2024-05-22T23:38:50.545186Z",
     "start_time": "2024-05-22T23:38:50.538662Z"
    }
   },
   "source": [
    "from sklearn.metrics.pairwise import rbf_kernel\n",
    "import numpy as np\n",
    "X = [[0, 0, 0], [1, 1, 1]]\n",
    "Y = [[1, 0, 0], [1, 1, 0]]\n",
    "# rbf_kernel(X, Y, gamma=1)\n",
    "np.exp(-1)"
   ],
   "outputs": [
    {
     "data": {
      "text/plain": [
       "0.36787944117144233"
      ]
     },
     "execution_count": 10,
     "metadata": {},
     "output_type": "execute_result"
    }
   ],
   "execution_count": 10
  },
  {
   "metadata": {
    "ExecuteTime": {
     "end_time": "2024-05-22T23:53:43.851681Z",
     "start_time": "2024-05-22T23:53:43.844445Z"
    }
   },
   "cell_type": "code",
   "source": [
    "# Random features\n",
    "feature_dim = 1\n",
    "mc_num = 8192\n",
    "w = np.random.normal(scale=1., size=[mc_num, feature_dim])\n",
    "b = np.random.uniform(low=0., high=2*np.pi, size=[mc_num,])\n",
    "def random_feature(x):\n",
    "    if isinstance(x, list):\n",
    "        x = np.array(x)\n",
    "    if len(x.shape) == 1:\n",
    "        x = np.reshape(x, [-1, 1])\n",
    "    if len(x.shape) == 2 and x.shape[0] == 1:\n",
    "        x = x.T\n",
    "    print(w.shape)\n",
    "    print(x.shape)\n",
    "    feature = np.sqrt(2) * np.cos((w @ x).squeeze() + b)\n",
    "    return feature\n",
    "\n",
    "def get_kernel_by_random_feature(x, y):\n",
    "    phi_x = random_feature(x)\n",
    "    phi_y = random_feature(y)\n",
    "    inner_prod = np.mean(phi_x * phi_y)\n",
    "    print(inner_prod, rbf_kernel(x, y, gamma=0.5))\n",
    "    \n",
    "get_kernel_by_random_feature([[0]], [[1]])"
   ],
   "id": "4e97900606d96bb1",
   "outputs": [
    {
     "name": "stdout",
     "output_type": "stream",
     "text": [
      "(8192, 1)\n",
      "(1, 1)\n",
      "(8192, 1)\n",
      "(1, 1)\n",
      "0.5957591934041295 [[0.60653066]]\n"
     ]
    }
   ],
   "execution_count": 120
  }
 ],
 "metadata": {
  "kernelspec": {
   "display_name": "Python 3",
   "language": "python",
   "name": "python3"
  },
  "language_info": {
   "codemirror_mode": {
    "name": "ipython",
    "version": 2
   },
   "file_extension": ".py",
   "mimetype": "text/x-python",
   "name": "python",
   "nbconvert_exporter": "python",
   "pygments_lexer": "ipython2",
   "version": "2.7.6"
  }
 },
 "nbformat": 4,
 "nbformat_minor": 5
}
