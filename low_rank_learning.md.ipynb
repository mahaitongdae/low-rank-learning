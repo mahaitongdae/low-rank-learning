{
 "cells": [
  {
   "metadata": {},
   "cell_type": "markdown",
   "source": "",
   "id": "a755ac4ec90709b3"
  },
  {
   "cell_type": "code",
   "id": "initial_id",
   "metadata": {
    "collapsed": true,
    "ExecuteTime": {
     "end_time": "2024-05-21T15:57:35.632742Z",
     "start_time": "2024-05-21T15:57:34.999703Z"
    }
   },
   "source": [
    "from envs.noisy_pendulum import ParallelNoisyPendulum\n",
    "from utils import TransitionDataset\n",
    "import torch\n",
    "from torch.utils.data import DataLoader\n",
    "from agents.estimator import MLEEstimator"
   ],
   "execution_count": 1,
   "outputs": []
  },
  {
   "metadata": {
    "ExecuteTime": {
     "end_time": "2024-05-21T15:57:37.182841Z",
     "start_time": "2024-05-21T15:57:37.162162Z"
    }
   },
   "cell_type": "code",
   "source": [
    "data_generator = ParallelNoisyPendulum()\n",
    "dataset = data_generator.uniform_sample(batches=200, store_path='./datasets/pendulum.npy')"
   ],
   "id": "511cf61371284792",
   "execution_count": 2,
   "outputs": []
  },
  {
   "metadata": {
    "ExecuteTime": {
     "end_time": "2024-05-21T15:57:37.825314Z",
     "start_time": "2024-05-21T15:57:37.815919Z"
    }
   },
   "cell_type": "code",
   "source": [
    "dataset = TransitionDataset(data = dataset)\n",
    "train_dataloader = DataLoader(dataset, batch_size=512, shuffle=True)\n",
    "len(train_dataloader)"
   ],
   "id": "463cbb79ca7272a7",
   "execution_count": 3,
   "outputs": []
  },
  {
   "metadata": {
    "ExecuteTime": {
     "end_time": "2024-05-21T15:57:39.315046Z",
     "start_time": "2024-05-21T15:57:38.828329Z"
    }
   },
   "cell_type": "code",
   "source": [
    "epoch = 10\n",
    "mle_estimator = MLEEstimator(embedding_dim=128,\n",
    "                             state_dim=2,\n",
    "                             action_dim=1,\n",
    "                             normalization='sigmoid_output')\n",
    "for batch, transition in enumerate(train_dataloader):\n",
    "    mle_estimator.estimate(transition)"
   ],
   "id": "8dc1f593764e9e55",
   "execution_count": 4,
   "outputs": []
  }
 ],
 "metadata": {
  "kernelspec": {
   "display_name": "Python 3",
   "language": "python",
   "name": "python3"
  },
  "language_info": {
   "codemirror_mode": {
    "name": "ipython",
    "version": 2
   },
   "file_extension": ".py",
   "mimetype": "text/x-python",
   "name": "python",
   "nbconvert_exporter": "python",
   "pygments_lexer": "ipython2",
   "version": "2.7.6"
  }
 },
 "nbformat": 4,
 "nbformat_minor": 5
}
